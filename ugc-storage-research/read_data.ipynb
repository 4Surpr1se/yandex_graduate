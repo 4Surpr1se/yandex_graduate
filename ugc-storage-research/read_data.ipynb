{
 "cells": [
  {
   "cell_type": "code",
   "execution_count": 3,
   "metadata": {},
   "outputs": [
    {
     "name": "stdout",
     "output_type": "stream",
     "text": [
      "1 запросов выполнено. Среднее время выполнения: 11.8442 сек.\n",
      "2 запросов выполнено. Среднее время выполнения: 11.5764 сек.\n",
      "3 запросов выполнено. Среднее время выполнения: 11.2416 сек.\n",
      "4 запросов выполнено. Среднее время выполнения: 11.2937 сек.\n",
      "5 запросов выполнено. Среднее время выполнения: 11.1687 сек.\n",
      "6 запросов выполнено. Среднее время выполнения: 12.1879 сек.\n",
      "7 запросов выполнено. Среднее время выполнения: 12.4334 сек.\n",
      "8 запросов выполнено. Среднее время выполнения: 12.6085 сек.\n",
      "9 запросов выполнено. Среднее время выполнения: 12.4323 сек.\n",
      "10 запросов выполнено. Среднее время выполнения: 12.3215 сек.\n",
      "Среднее время выполнения агрегационного запроса: 12.3215 сек.\n"
     ]
    }
   ],
   "source": [
    "import time\n",
    "from clickhouse_driver import Client\n",
    "\n",
    "def run_aggregation_queries():\n",
    "    client = Client('localhost')\n",
    "    aggregation_query = '''\n",
    "        SELECT\n",
    "            user_id,\n",
    "            event_type,\n",
    "            COUNT(*) AS event_count\n",
    "        FROM player_events\n",
    "        GROUP BY user_id, event_type\n",
    "        ORDER BY user_id, event_type\n",
    "    '''\n",
    "\n",
    "    num_iterations = 10\n",
    "    total_read_time = 0\n",
    "\n",
    "    for i in range(num_iterations):\n",
    "        read_start_time = time.time()\n",
    "        client.execute(aggregation_query)\n",
    "        read_end_time = time.time()\n",
    "\n",
    "        query_time = read_end_time - read_start_time\n",
    "        total_read_time += query_time\n",
    "\n",
    "        print(f'{i + 1} запросов выполнено. Среднее время выполнения: {total_read_time / (i + 1):.4f} сек.')\n",
    "\n",
    "    avg_read_time = total_read_time / num_iterations\n",
    "    print(f'Среднее время выполнения агрегационного запроса: {avg_read_time:.4f} сек.')\n",
    "\n",
    "run_aggregation_queries()\n"
   ]
  },
  {
   "cell_type": "code",
   "execution_count": 1,
   "metadata": {},
   "outputs": [
    {
     "name": "stdout",
     "output_type": "stream",
     "text": [
      "Версия Vertica: Vertica Analytic Database v9.2.0-7\n"
     ]
    },
    {
     "name": "stderr",
     "output_type": "stream",
     "text": [
      "c:\\Users\\User\\AppData\\Local\\Programs\\Python\\Python310\\lib\\site-packages\\vertica_python\\vertica\\connection.py:629: UserWarning: TLS is not configured on the server. Proceeding with an unencrypted channel.\n",
      "HINT: Set connection option 'tlsmode' to 'disable' to explicitly create a non-TLS connection.\n",
      "  warnings.warn(msg + hint)\n"
     ]
    }
   ],
   "source": [
    "import vertica_python\n",
    "\n",
    "conn_info = {\n",
    "    'host': 'localhost',\n",
    "    'port': 5433,\n",
    "    'user': 'dbadmin',  # стандартный пользователь\n",
    "    'password': '',  # если пароль не был установлен\n",
    "    'database': 'docker',  # имя базы данных, созданной в контейнере\n",
    "    'autocommit': True\n",
    "}\n",
    "\n",
    "connection = vertica_python.connect(**conn_info)\n",
    "\n",
    "cursor = connection.cursor()\n",
    "cursor.execute(\"SELECT version()\")\n",
    "result = cursor.fetchone()\n",
    "print(\"Версия Vertica:\", result[0])"
   ]
  },
  {
   "cell_type": "code",
   "execution_count": 3,
   "metadata": {},
   "outputs": [
    {
     "name": "stdout",
     "output_type": "stream",
     "text": [
      "Запрос 1 выполнен за 174.6828 сек.\n",
      "Запрос 2 выполнен за 241.8098 сек.\n",
      "Запрос 3 выполнен за 165.0078 сек.\n",
      "Запрос 4 выполнен за 200.6767 сек.\n",
      "Запрос 5 выполнен за 236.9028 сек.\n",
      "Запрос 6 выполнен за 157.3818 сек.\n",
      "Запрос 7 выполнен за 156.7935 сек.\n",
      "Запрос 8 выполнен за 275.6477 сек.\n",
      "Запрос 9 выполнен за 300.4091 сек.\n",
      "Запрос 10 выполнен за 298.1313 сек.\n",
      "Среднее время выполнения запроса: 220.7443 сек.\n"
     ]
    }
   ],
   "source": [
    "import time\n",
    "\n",
    "aggregation_query = '''\n",
    "    SELECT user_id, event_type, COUNT(*) AS event_count\n",
    "    FROM player_events\n",
    "    GROUP BY user_id, event_type\n",
    "    ORDER BY user_id, event_type\n",
    "'''\n",
    "\n",
    "num_iterations = 10\n",
    "total_time = 0\n",
    "\n",
    "for i in range(num_iterations):\n",
    "\n",
    "    start_time = time.time()\n",
    "    \n",
    "\n",
    "    cursor.execute(aggregation_query)\n",
    "    result = cursor.fetchall()\n",
    "    \n",
    "\n",
    "    end_time = time.time()\n",
    "    query_time = end_time - start_time\n",
    "    total_time += query_time\n",
    "    \n",
    "    print(f'Запрос {i + 1} выполнен за {query_time:.4f} сек.')\n",
    "\n",
    "\n",
    "average_time = total_time / num_iterations\n",
    "print(f'Среднее время выполнения запроса: {average_time:.4f} сек.')\n",
    "\n",
    "\n",
    "cursor.close()\n",
    "connection.close()"
   ]
  }
 ],
 "metadata": {
  "kernelspec": {
   "display_name": "Python 3",
   "language": "python",
   "name": "python3"
  },
  "language_info": {
   "codemirror_mode": {
    "name": "ipython",
    "version": 3
   },
   "file_extension": ".py",
   "mimetype": "text/x-python",
   "name": "python",
   "nbconvert_exporter": "python",
   "pygments_lexer": "ipython3",
   "version": "3.10.2"
  }
 },
 "nbformat": 4,
 "nbformat_minor": 2
}
